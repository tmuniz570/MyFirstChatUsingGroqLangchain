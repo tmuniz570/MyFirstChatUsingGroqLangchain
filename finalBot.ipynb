{
 "cells": [
  {
   "cell_type": "code",
   "execution_count": null,
   "id": "2412b832",
   "metadata": {},
   "outputs": [],
   "source": [
    "%pip install langchain\n",
    "%pip install langchain-groq\n",
    "%pip install langchain-community\n",
    "%pip install youtube_transcript_api\n",
    "%pip install pypdf"
   ]
  },
  {
   "cell_type": "code",
   "execution_count": 1,
   "id": "f5fb6478",
   "metadata": {},
   "outputs": [
    {
     "name": "stderr",
     "output_type": "stream",
     "text": [
      "USER_AGENT environment variable not set, consider setting it to identify your requests.\n"
     ]
    }
   ],
   "source": [
    "import os\n",
    "import sys\n",
    "from langchain_groq import ChatGroq\n",
    "from langchain.prompts import ChatPromptTemplate\n",
    "from langchain_community.document_loaders import YoutubeLoader\n",
    "from langchain_community.document_loaders import WebBaseLoader\n",
    "from langchain_community.document_loaders import PyPDFLoader"
   ]
  },
  {
   "cell_type": "code",
   "execution_count": 2,
   "id": "77ca0e17",
   "metadata": {},
   "outputs": [],
   "source": [
    "# API key for Groq\n",
    "api_key = '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'"
   ]
  },
  {
   "cell_type": "code",
   "execution_count": 3,
   "id": "2914ea49",
   "metadata": {},
   "outputs": [],
   "source": [
    "# Define the key as an enviroment variable\n",
    "os.environ['GROQ_API_KEY'] = api_key # Use your Groq API key here\n",
    "# Create a chat model instance\n",
    "chat = ChatGroq(model='meta-llama/llama-4-scout-17b-16e-instruct')\n",
    "\n",
    "# Function to handle answer\n",
    "def bot_answer(expression, document=None):\n",
    "    message_model = [('system', 'You area a felpful assistant called Jarvis and you answer questions based on the provided context: {context}. If no context is provided, you will answer based on your general knowledge.')]\n",
    "    message_model += expression\n",
    "    template = ChatPromptTemplate.from_messages(message_model)\n",
    "    chain = template | chat\n",
    "    return chain.invoke({'context': document}).content"
   ]
  },
  {
   "cell_type": "code",
   "execution_count": 4,
   "id": "7f931968",
   "metadata": {},
   "outputs": [],
   "source": [
    "def load_web_content():\n",
    "    url = input('Enter the URL: ')\n",
    "    loader = WebBaseLoader(url)\n",
    "    documents_list = loader.load()\n",
    "    return [doc.page_content for doc in documents_list]\n",
    "\n",
    "def load_youtube_content():\n",
    "    url = input('Enter the YouTube video URL: ')\n",
    "    loader = YoutubeLoader.from_youtube_url(url, language='pt')\n",
    "    documents_list = loader.load()\n",
    "    return [doc.page_content for doc in documents_list]\n",
    "\n",
    "def load_pdf_content():\n",
    "    file_path = input('Enter the path to the PDF file: ')\n",
    "    loader = PyPDFLoader(file_path)\n",
    "    documents_list = loader.load()\n",
    "    return [doc.page_content for doc in documents_list]"
   ]
  },
  {
   "cell_type": "code",
   "execution_count": 7,
   "id": "27a8b780",
   "metadata": {},
   "outputs": [
    {
     "name": "stdout",
     "output_type": "stream",
     "text": [
      "Welcome to the bot!\n",
      "\n",
      "You can now ask questions about the website content.\n",
      "Bot: Welcome! I'm Jarvis, your helpful assistant. Based on the context provided, it appears you're on the Wikipedia homepage. Here, you can:\n",
      "\n",
      "1. **Search Wikipedia**: Look for information on a wide range of topics in over 300 languages.\n",
      "2. **Read articles**: Browse through over 7 million articles in English and millions more in other languages.\n",
      "3. **Explore languages**: Access Wikipedia in various languages, including English, Español, Français, 日本語, and many more.\n",
      "4. **Download the app**: Get the official Wikipedia app for Android or iOS to read offline, sync your reading lists, and customize your experience.\n",
      "5. **Support Wikipedia**: Make a donation to the Wikimedia Foundation, a non-profit organization that hosts Wikipedia and other projects.\n",
      "\n",
      "Additionally, you can visit other projects hosted by the Wikimedia Foundation, such as:\n",
      "\n",
      "1. **Commons**: A free media collection.\n",
      "2. **Wikivoyage**: A free travel guide.\n",
      "3. **Wiktionary**: A free dictionary.\n",
      "4. **Wikibooks**: Free textbooks.\n",
      "5. **Wikinews**: A free news source.\n",
      "6. **Wikidata**: A free knowledge base.\n",
      "7. **Wikiversity**: Free learning resources.\n",
      "\n",
      "What would you like to do?\n",
      "Thank you, see you soon!\n",
      "[('user', 'What can i do here?'), ('assistant', \"Welcome! I'm Jarvis, your helpful assistant. Based on the context provided, it appears you're on the Wikipedia homepage. Here, you can:\\n\\n1. **Search Wikipedia**: Look for information on a wide range of topics in over 300 languages.\\n2. **Read articles**: Browse through over 7 million articles in English and millions more in other languages.\\n3. **Explore languages**: Access Wikipedia in various languages, including English, Español, Français, 日本語, and many more.\\n4. **Download the app**: Get the official Wikipedia app for Android or iOS to read offline, sync your reading lists, and customize your experience.\\n5. **Support Wikipedia**: Make a donation to the Wikimedia Foundation, a non-profit organization that hosts Wikipedia and other projects.\\n\\nAdditionally, you can visit other projects hosted by the Wikimedia Foundation, such as:\\n\\n1. **Commons**: A free media collection.\\n2. **Wikivoyage**: A free travel guide.\\n3. **Wiktionary**: A free dictionary.\\n4. **Wikibooks**: Free textbooks.\\n5. **Wikinews**: A free news source.\\n6. **Wikidata**: A free knowledge base.\\n7. **Wikiversity**: Free learning resources.\\n\\nWhat would you like to do?\")]\n"
     ]
    }
   ],
   "source": [
    "print(\"Welcome to the bot!\\n\")\n",
    "\n",
    "text_menu = '''\n",
    "Please choose an option:\n",
    "1. Talk to a Website\n",
    "2. Talk to a YouTube video\n",
    "3. Talk to a PDF file\n",
    "4. Just talk to the bot\n",
    "5. Exit\n",
    "'''\n",
    "\n",
    "while True:\n",
    "    try:\n",
    "        menu = int(input(text_menu))\n",
    "        if menu == 1:\n",
    "            documents = load_web_content()\n",
    "            print(\"You can now ask questions about the website content.\")\n",
    "            break\n",
    "        elif menu == 2:\n",
    "            documents = load_youtube_content()\n",
    "            print(\"You can now ask questions about the YouTube video content.\")\n",
    "            break\n",
    "        elif menu == 3:\n",
    "            documents = load_pdf_content()\n",
    "            print(\"You can now ask questions about the PDF content.\")\n",
    "            break\n",
    "        elif menu == 4:\n",
    "            documents = []\n",
    "            print(\"You can now talk to the bot without any specific content.\")\n",
    "            break\n",
    "        elif menu == 5:\n",
    "            print(\"Exiting the program. Goodbye!\")\n",
    "            sys.exit(0)\n",
    "        else:\n",
    "            print(\"Invalid option, please try again.\")\n",
    "    except ValueError:\n",
    "        print(\"Please enter a valid number.\")\n",
    "\n",
    "# Mesage history\n",
    "messages = []\n",
    "# Loop to get user input\n",
    "while True:\n",
    "    expression = input(\"Enter an expression (or 'exit' to quit): \")\n",
    "    if expression.lower() == 'exit':\n",
    "        break\n",
    "    messages.append(('user', expression))\n",
    "    answer = bot_answer(messages, documents)\n",
    "    messages.append(('assistant', answer))\n",
    "    print(f\"Bot: {answer}\")\n",
    "\n",
    "print(\"Thank you, see you soon!\")\n",
    "print(messages)"
   ]
  }
 ],
 "metadata": {
  "kernelspec": {
   "display_name": "vehicles_env",
   "language": "python",
   "name": "python3"
  },
  "language_info": {
   "codemirror_mode": {
    "name": "ipython",
    "version": 3
   },
   "file_extension": ".py",
   "mimetype": "text/x-python",
   "name": "python",
   "nbconvert_exporter": "python",
   "pygments_lexer": "ipython3",
   "version": "3.13.2"
  }
 },
 "nbformat": 4,
 "nbformat_minor": 5
}
