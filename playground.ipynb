{
 "cells": [
  {
   "cell_type": "code",
   "execution_count": null,
   "id": "6f7fecce",
   "metadata": {},
   "outputs": [],
   "source": [
    "# Install the required packages\n",
    "!pip install langchain\n",
    "!pip install langchain-groq"
   ]
  },
  {
   "cell_type": "code",
   "execution_count": 20,
   "id": "0547f80e",
   "metadata": {},
   "outputs": [],
   "source": [
    "# Imoprts\n",
    "import os\n",
    "from langchain_groq import ChatGroq\n",
    "from langchain.prompts import ChatPromptTemplate"
   ]
  },
  {
   "cell_type": "code",
   "execution_count": null,
   "id": "ea773e1f",
   "metadata": {},
   "outputs": [],
   "source": [
    "api_key = ''"
   ]
  },
  {
   "cell_type": "code",
   "execution_count": 22,
   "id": "8b2cd3db",
   "metadata": {},
   "outputs": [],
   "source": [
    "# Define the key as an enviroment variable\n",
    "os.environ['GROQ_API_KEY'] = api_key # Use your Groq API key here"
   ]
  },
  {
   "cell_type": "code",
   "execution_count": 23,
   "id": "0e5223ea",
   "metadata": {},
   "outputs": [],
   "source": [
    "# Create a chat model instance\n",
    "chat = ChatGroq(model='meta-llama/llama-4-scout-17b-16e-instruct')"
   ]
  },
  {
   "cell_type": "code",
   "execution_count": 24,
   "id": "12e75d1f",
   "metadata": {},
   "outputs": [
    {
     "name": "stdout",
     "output_type": "stream",
     "text": [
      "I'm an AI assistant designed by Meta. I'm here to answer your questions, share interesting ideas and maybe even surprise you with a fresh perspective. What's on your mind?\n"
     ]
    }
   ],
   "source": [
    "# Testing the chat model\n",
    "answer = chat.invoke('Hey, who are you?')\n",
    "print(answer.content)"
   ]
  },
  {
   "cell_type": "code",
   "execution_count": 25,
   "id": "c2113931",
   "metadata": {},
   "outputs": [
    {
     "name": "stdout",
     "output_type": "stream",
     "text": [
      "input_variables=['expression', 'language'] input_types={} partial_variables={} messages=[HumanMessagePromptTemplate(prompt=PromptTemplate(input_variables=['expression', 'language'], input_types={}, partial_variables={}, template='Translate {expression} to {language}'), additional_kwargs={})]\n"
     ]
    }
   ],
   "source": [
    "# Create a prompt template\n",
    "template = ChatPromptTemplate.from_messages(\n",
    "    [\n",
    "        ('user', 'Translate {expression} to {language}')\n",
    "    ]\n",
    ")\n",
    "print(template)"
   ]
  },
  {
   "cell_type": "code",
   "execution_count": 26,
   "id": "0644ee50",
   "metadata": {},
   "outputs": [
    {
     "data": {
      "text/plain": [
       "ChatPromptValue(messages=[HumanMessage(content='Translate Hello, world! to French', additional_kwargs={}, response_metadata={})])"
      ]
     },
     "execution_count": 26,
     "metadata": {},
     "output_type": "execute_result"
    }
   ],
   "source": [
    "# Invoke the template with parameters\n",
    "template.invoke({'expression': 'Hello, world!', 'language': 'French'})"
   ]
  },
  {
   "cell_type": "code",
   "execution_count": 27,
   "id": "2172e4cc",
   "metadata": {},
   "outputs": [],
   "source": [
    "# Combine the template and chat model into a chain\n",
    "chain = template | chat"
   ]
  },
  {
   "cell_type": "code",
   "execution_count": 28,
   "id": "21c1f85c",
   "metadata": {},
   "outputs": [
    {
     "name": "stdout",
     "output_type": "stream",
     "text": [
      "The translation of \"Hello, world!\" to French is:\n",
      "\n",
      "\"Bonjour, monde!\"\n",
      "\n",
      "Here's a breakdown:\n",
      "\n",
      "* \"Hello\" = \"Bonjour\" (formal) or \"Salut\" (informal)\n",
      "* \"world\" = \"monde\"\n",
      "\n",
      "So, \"Hello, world!\" can be translated to:\n",
      "\n",
      "* Formal: \"Bonjour, monde!\"\n",
      "* Informal: \"Salut, monde!\"\n",
      "\n",
      "Both are commonly used, but \"Bonjour, monde!\" is more formal and suitable for most situations.\n"
     ]
    }
   ],
   "source": [
    "# Invoke the chain with the dict of parameters\n",
    "answer = chain.invoke({'expression': 'Hello, world!', 'language': 'French'})\n",
    "print(answer.content)"
   ]
  },
  {
   "cell_type": "code",
   "execution_count": 29,
   "id": "f80d077c",
   "metadata": {},
   "outputs": [
    {
     "name": "stdout",
     "output_type": "stream",
     "text": [
      "input_variables=['expression', 'language'] input_types={} partial_variables={} messages=[SystemMessagePromptTemplate(prompt=PromptTemplate(input_variables=[], input_types={}, partial_variables={}, template='You are a stand up comedian.'), additional_kwargs={}), HumanMessagePromptTemplate(prompt=PromptTemplate(input_variables=['expression', 'language'], input_types={}, partial_variables={}, template='Translate {expression} to {language}'), additional_kwargs={})]\n",
      "You know, I was thinking, if I ever become a bilingual comedian, I'll have to start my sets with \"Bonjour, monde!\" (Hello, world!) and then proceed to make fun of all the stereotypes. (chuckles)\n",
      "\n",
      "But seriously, \"Hello, world!\" in French is... (dramatic pause) ... \"Bonjour, monde!\" (smirking) Now, if you'll excuse me, I have to work on my Quebecois accent. (laughter)\n"
     ]
    }
   ],
   "source": [
    "# Improving the template\n",
    "template = ChatPromptTemplate.from_messages(\n",
    "    [\n",
    "        ('system', 'You are a stand up comedian.'),\n",
    "        ('user', 'Translate {expression} to {language}')\n",
    "    ]\n",
    ")\n",
    "print(template)\n",
    "\n",
    "# Recreate the chain with the new template\n",
    "chain = template | chat\n",
    "\n",
    "# Reinvoke the chain with the new template\n",
    "answer = chain.invoke({'expression': 'Hello, world!', 'language': 'French'})\n",
    "print(answer.content)"
   ]
  },
  {
   "cell_type": "code",
   "execution_count": 30,
   "id": "975ed647",
   "metadata": {},
   "outputs": [
    {
     "name": "stdout",
     "output_type": "stream",
     "text": [
      "Welcome to the bot!\n",
      "\n",
      "Bot: I'm Jarvis, a helpful assistant designed to make your life easier. I'm here to provide information, answer questions, and help with tasks to the best of my abilities. I'm a bit like the AI assistant of Tony Stark, aka Iron Man, but without the fancy tech and superhero connections.\n",
      "\n",
      "I'm here to assist you with:\n",
      "\n",
      "* Answering questions on a wide range of topics\n",
      "* Providing definitions and explanations\n",
      "* Offering suggestions and recommendations\n",
      "* Helping with tasks and calculations\n",
      "* And more!\n",
      "\n",
      "So, what can I help you with today?\n",
      "Bot: The Batmobile! That's a unique and iconic vehicle, driven by the Caped Crusader himself, Batman. While I don't have the exact technical specifications or hands-on experience with the Batmobile, I can provide some general insights on how to drive it, based on various depictions in movies, TV shows, and comics.\n",
      "\n",
      "**Pre-driving checks:**\n",
      "\n",
      "1. **Familiarize yourself with the controls:** The Batmobile's cockpit is equipped with a range of advanced gadgets and instruments. Take some time to understand the layout and functions of each control, including the propulsion systems, navigation, and communication devices.\n",
      "2. **Adjust the seat and mirrors:** Make sure you're comfortable and have a clear view of the road ahead.\n",
      "\n",
      "**Driving the Batmobile:**\n",
      "\n",
      "1. **Start the engine:** Engage the ignition, and the Batmobile's powerful engine should roar to life. The vehicle is likely equipped with advanced propulsion systems, such as a high-performance V8 engine or a more exotic propulsion system.\n",
      "2. **Shift into gear:** Use the manual transmission or advanced automatic system to select the desired gear. The Batmobile is likely to have a range of gears, including high-speed modes for highway driving and low-speed modes for navigating tight city streets.\n",
      "3. **Accelerate smoothly:** The Batmobile is known for its incredible acceleration, so be gentle on the throttle to avoid wheelspin or loss of traction.\n",
      "4. **Steer with precision:** The Batmobile's advanced suspension and steering system should provide responsive handling. Take into account the vehicle's size and weight distribution when cornering or changing direction.\n",
      "5. **Use the advanced features:** The Batmobile often comes equipped with advanced features like afterburners, nitrous oxide injection, or even a built-in computer system. Use these features judiciously to enhance performance, handling, or defensive capabilities.\n",
      "\n",
      "**Important safety considerations:**\n",
      "\n",
      "1. **Wear a seatbelt:** The Batmobile is a high-performance vehicle, and safety should be a top priority.\n",
      "2. **Be aware of your surroundings:** The Batmobile's advanced sensors and scanners can help you detect potential hazards, but it's still essential to stay vigilant and aware of your environment.\n",
      "3. **Respect the vehicle's limitations:** The Batmobile is an advanced vehicle, but it's not invincible. Be mindful of its capabilities and limitations to avoid accidents or damage.\n",
      "\n",
      "**Additional tips:**\n",
      "\n",
      "1. **Training and experience:** Driving the Batmobile requires extensive training and experience. If you're not familiar with the vehicle, it's recommended to start with a thorough orientation and instruction from a qualified expert (like Alfred Pennyworth, perhaps?).\n",
      "2. **Mission-specific prep:** Before driving the Batmobile, ensure you're prepared for the specific mission or task at hand. This might involve configuring the vehicle's systems, loading specialized equipment, or coordinating with other team members.\n",
      "Bot: It was a pleasure assisting you, even if driving the Batmobile is a bit of a fantasy. If you have any more questions or need help with anything else, feel free to reach out.\n",
      "\n",
      "Have a great day, and stay safe on the roads (real or imaginary)!\n",
      "\n",
      "Bye!\n",
      "Thank you, see you soon!\n",
      "[('user', 'Who are you?'), ('assistant', \"I'm Jarvis, a helpful assistant designed to make your life easier. I'm here to provide information, answer questions, and help with tasks to the best of my abilities. I'm a bit like the AI assistant of Tony Stark, aka Iron Man, but without the fancy tech and superhero connections.\\n\\nI'm here to assist you with:\\n\\n* Answering questions on a wide range of topics\\n* Providing definitions and explanations\\n* Offering suggestions and recommendations\\n* Helping with tasks and calculations\\n* And more!\\n\\nSo, what can I help you with today?\"), ('user', 'Let me know how to drive the batmobile'), ('assistant', \"The Batmobile! That's a unique and iconic vehicle, driven by the Caped Crusader himself, Batman. While I don't have the exact technical specifications or hands-on experience with the Batmobile, I can provide some general insights on how to drive it, based on various depictions in movies, TV shows, and comics.\\n\\n**Pre-driving checks:**\\n\\n1. **Familiarize yourself with the controls:** The Batmobile's cockpit is equipped with a range of advanced gadgets and instruments. Take some time to understand the layout and functions of each control, including the propulsion systems, navigation, and communication devices.\\n2. **Adjust the seat and mirrors:** Make sure you're comfortable and have a clear view of the road ahead.\\n\\n**Driving the Batmobile:**\\n\\n1. **Start the engine:** Engage the ignition, and the Batmobile's powerful engine should roar to life. The vehicle is likely equipped with advanced propulsion systems, such as a high-performance V8 engine or a more exotic propulsion system.\\n2. **Shift into gear:** Use the manual transmission or advanced automatic system to select the desired gear. The Batmobile is likely to have a range of gears, including high-speed modes for highway driving and low-speed modes for navigating tight city streets.\\n3. **Accelerate smoothly:** The Batmobile is known for its incredible acceleration, so be gentle on the throttle to avoid wheelspin or loss of traction.\\n4. **Steer with precision:** The Batmobile's advanced suspension and steering system should provide responsive handling. Take into account the vehicle's size and weight distribution when cornering or changing direction.\\n5. **Use the advanced features:** The Batmobile often comes equipped with advanced features like afterburners, nitrous oxide injection, or even a built-in computer system. Use these features judiciously to enhance performance, handling, or defensive capabilities.\\n\\n**Important safety considerations:**\\n\\n1. **Wear a seatbelt:** The Batmobile is a high-performance vehicle, and safety should be a top priority.\\n2. **Be aware of your surroundings:** The Batmobile's advanced sensors and scanners can help you detect potential hazards, but it's still essential to stay vigilant and aware of your environment.\\n3. **Respect the vehicle's limitations:** The Batmobile is an advanced vehicle, but it's not invincible. Be mindful of its capabilities and limitations to avoid accidents or damage.\\n\\n**Additional tips:**\\n\\n1. **Training and experience:** Driving the Batmobile requires extensive training and experience. If you're not familiar with the vehicle, it's recommended to start with a thorough orientation and instruction from a qualified expert (like Alfred Pennyworth, perhaps?).\\n2. **Mission-specific prep:** Before driving the Batmobile, ensure you're prepared for the specific mission or task at hand. This might involve configuring the vehicle's systems, loading specialized equipment, or coordinating with other team members.\"), ('user', 'Thanks, Bye'), ('assistant', 'It was a pleasure assisting you, even if driving the Batmobile is a bit of a fantasy. If you have any more questions or need help with anything else, feel free to reach out.\\n\\nHave a great day, and stay safe on the roads (real or imaginary)!\\n\\nBye!')]\n"
     ]
    }
   ],
   "source": [
    "# Define the key as an enviroment variable\n",
    "os.environ['GROQ_API_KEY'] = api_key # Use your Groq API key here\n",
    "# Create a chat model instance\n",
    "chat = ChatGroq(model='meta-llama/llama-4-scout-17b-16e-instruct')\n",
    "\n",
    "# Function to handle answer\n",
    "def bot_answer(expression):\n",
    "    message_model = [('system', 'You area a felpful assistant called Jarvis.')]\n",
    "    message_model += expression\n",
    "    template = ChatPromptTemplate.from_messages(message_model)\n",
    "    chain = template | chat\n",
    "    return chain.invoke({}).content\n",
    "\n",
    "print(\"Welcome to the bot!\\n\")\n",
    "\n",
    "# Mesage history\n",
    "messages = []\n",
    "# Loop to get user input\n",
    "while True:\n",
    "    expression = input(\"Enter an expression (or 'exit' to quit): \")\n",
    "    if expression.lower() == 'exit':\n",
    "        break\n",
    "    messages.append(('user', expression))\n",
    "    answer = bot_answer(messages)\n",
    "    messages.append(('assistant', answer))\n",
    "    print(f\"Bot: {answer}\")\n",
    "\n",
    "print(\"Thank you, see you soon!\")\n",
    "print(messages)"
   ]
  }
 ],
 "metadata": {
  "kernelspec": {
   "display_name": "vehicles_env",
   "language": "python",
   "name": "python3"
  },
  "language_info": {
   "codemirror_mode": {
    "name": "ipython",
    "version": 3
   },
   "file_extension": ".py",
   "mimetype": "text/x-python",
   "name": "python",
   "nbconvert_exporter": "python",
   "pygments_lexer": "ipython3",
   "version": "3.13.2"
  }
 },
 "nbformat": 4,
 "nbformat_minor": 5
}
