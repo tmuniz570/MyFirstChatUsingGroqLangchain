{
 "cells": [
  {
   "cell_type": "code",
   "execution_count": null,
   "id": "6f7fecce",
   "metadata": {},
   "outputs": [],
   "source": [
    "# Install the required packages\n",
    "%pip install langchain\n",
    "%pip install langchain-groq\n",
    "%pip install langchain-community"
   ]
  },
  {
   "cell_type": "code",
   "execution_count": 1,
   "id": "0547f80e",
   "metadata": {},
   "outputs": [
    {
     "name": "stderr",
     "output_type": "stream",
     "text": [
      "USER_AGENT environment variable not set, consider setting it to identify your requests.\n"
     ]
    }
   ],
   "source": [
    "# Imoprts\n",
    "import os\n",
    "from langchain_groq import ChatGroq\n",
    "from langchain.prompts import ChatPromptTemplate\n",
    "from langchain_community.document_loaders import WebBaseLoader"
   ]
  },
  {
   "cell_type": "code",
   "execution_count": 2,
   "id": "4fe33c30",
   "metadata": {},
   "outputs": [
    {
     "name": "stdout",
     "output_type": "stream",
     "text": [
      "[Document(metadata={'source': 'https://mediestetica.com.br/', 'title': 'MediEstética - Mounjaro | Compre Agora', 'description': 'Mounjaro original - todas as dosagens disponíveis. Encontre a caneta ideal para sua necessidade.', 'language': 'pt-BR'}, page_content='\\n\\n\\n\\n\\n\\n\\n\\n\\n\\n\\nMediEstética - Mounjaro | Compre Agora\\n\\n\\n\\n\\n\\n\\n\\n\\n\\n\\n\\n\\n\\nMediEstética\\nEmagrecimento\\n\\n\\n\\n\\n\\n\\n\\n\\n\\nTirzepatide\\nMounjaro\\nContatos\\n\\n\\n\\n\\n\\n\\n\\nTirzepatide\\nO ingrediente ativo neste tratamento, a tirzepatide, funciona regulando o apetite do paciente para que ele se sinta satisfeito, fazendo com que sinta menos fome e tenha menos desejos por comida.Deve ser usado em conjunto com uma dieta hipocalórica e aumento da atividade física de aproximamente 30 minutos diarios para um resultado mais rapido.\\nFale conosco e saiba mais!\\n\\n\\n\\n\\nMounjaro\\n\\nAdministração Simples e Flexível: O Mounjaro é administrado por via subcutânea uma vez por semana. A injeção pode ser feita no abdômen, coxa ou parte superior do braço, oferecendo flexibilidade ao paciente. O medicamento vem em uma caneta pré-cheia, tornando a aplicação simples e prática. As dosagens devem ser progressivas ou regressivas, de acordo com sua necessidade.\\nMecanismo de Ação Duplo: O Mounjaro age imitando dois hormônios naturais do corpo: o GLP-1 e o GIP. Essa ação dual ajuda a controlar os níveis de açúcar no sangue, promovendo a perda de peso e reduzindo o apetite.\\nBenefícios Potenciais: Estudos clínicos demonstraram que o Mounjaro pode levar a uma perda de peso considerável, mesmo em pacientes com obesidade severa. O medicamento é eficaz em reduzir os níveis de açúcar no sangue em pessoas com diabetes tipo 2. Há evidências de que o Mounjaro pode ajudar a reduzir o risco de eventos cardiovasculares em pacientes com diabetes.\\nMonitoramento regular: É fundamental realizar acompanhamentos regulares com o médico para avaliar a eficácia do tratamento e ajustar a dose, se necessário. Também informar o seu médico sobre todos os medicamentos que você está tomando, incluindo suplementos e ervas. Pacientes do sexo feminino que usam anticoncepcionais orais devem considerar usar um método contraceptivo de barreira (preservativo) e/ou consultar o médico sobre alterações no funcionamento do anticoncepcional.\\n\\nFale conosco e saiba mais!\\n\\n\\n\\n\\n\\n\\n\\n\\n\\n\\n\\n\\n\\n\\n\\n\\n\\n\\n\\n\\n\\n\\nMediEstética\\nEmagrecimento\\n\\nContatos:\\n\\n\\n\\n\\n\\n\\n\\n\\n\\n\\n\\n\\n')]\n"
     ]
    }
   ],
   "source": [
    "loader = WebBaseLoader(\"https://mediestetica.com.br/\")\n",
    "documents_list = loader.load()\n",
    "print(documents_list)"
   ]
  },
  {
   "cell_type": "code",
   "execution_count": 5,
   "id": "b87e2e58",
   "metadata": {},
   "outputs": [],
   "source": [
    "# Create a string with the content of the pages\n",
    "document = ''\n",
    "for doc in documents_list:\n",
    "    document += doc.page_content"
   ]
  },
  {
   "cell_type": "code",
   "execution_count": 6,
   "id": "ea773e1f",
   "metadata": {},
   "outputs": [],
   "source": [
    "# API key fof Groq\n",
    "api_key = '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'"
   ]
  },
  {
   "cell_type": "code",
   "execution_count": 7,
   "id": "c2113931",
   "metadata": {},
   "outputs": [],
   "source": [
    "# Define the key as an enviroment variable\n",
    "os.environ['GROQ_API_KEY'] = api_key # Use your Groq API key here\n",
    "\n",
    "# Create a chat model instance\n",
    "chat = ChatGroq(model='meta-llama/llama-4-scout-17b-16e-instruct')\n",
    "\n",
    "# Create a prompt template\n",
    "template = ChatPromptTemplate.from_messages(\n",
    "    [\n",
    "        ('system', 'You are a helpful assistant called Jarvis e  da respostas de acordo com as informacoes do site: {website}'),\n",
    "        ('user', '{input}')\n",
    "    ]\n",
    ")\n",
    "\n",
    "# Combine the template and chat model into a chain\n",
    "chain = template | chat"
   ]
  },
  {
   "cell_type": "code",
   "execution_count": 9,
   "id": "c6e52da8",
   "metadata": {},
   "outputs": [
    {
     "name": "stdout",
     "output_type": "stream",
     "text": [
      "O tratamento para diabetes tipo 2 pode variar dependendo de vários fatores, incluindo a gravidade da condição, a presença de outras doenças e a resposta individual ao tratamento. No entanto, de acordo com as informações fornecidas, o Mounjaro (Tirzepatide) parece ser uma opção promissora para o tratamento de diabetes tipo 2.\n",
      "\n",
      "O Mounjaro tem um mecanismo de ação dual, imitando dois hormônios naturais do corpo: o GLP-1 e o GIP. Isso ajuda a controlar os níveis de açúcar no sangue e pode levar a uma perda de peso considerável. Além disso, estudos clínicos demonstraram que o Mounjaro pode reduzir os níveis de açúcar no sangue em pessoas com diabetes tipo 2 e pode ajudar a reduzir o risco de eventos cardiovasculares.\n",
      "\n",
      "No entanto, é importante notar que o tratamento para diabetes tipo 2 geralmente envolve uma abordagem multifacetada, incluindo:\n",
      "\n",
      "1. Mudanças no estilo de vida: dieta saudável, exercícios regulares e perda de peso.\n",
      "2. Medicamentos: metformina, sulfonilureias, meglitinidas, etc.\n",
      "3. Monitoramento regular: acompanhamento com o médico para avaliar a eficácia do tratamento e ajustar a dose, se necessário.\n",
      "\n",
      "É fundamental consultar um médico para determinar o melhor tratamento para cada caso individual. O Mounjaro pode ser uma opção viável, mas é importante discutir os benefícios e riscos potenciais com um profissional de saúde.\n",
      "\n",
      "Fale com a MediEstética para saber mais sobre o Mounjaro e como ele pode ser uma opção para você!\n"
     ]
    }
   ],
   "source": [
    "print(chain.invoke({'website': document, 'input': 'Qual o melhor tratamento para diabetes?'}).content)"
   ]
  }
 ],
 "metadata": {
  "kernelspec": {
   "display_name": "vehicles_env",
   "language": "python",
   "name": "python3"
  },
  "language_info": {
   "codemirror_mode": {
    "name": "ipython",
    "version": 3
   },
   "file_extension": ".py",
   "mimetype": "text/x-python",
   "name": "python",
   "nbconvert_exporter": "python",
   "pygments_lexer": "ipython3",
   "version": "3.13.2"
  }
 },
 "nbformat": 4,
 "nbformat_minor": 5
}
